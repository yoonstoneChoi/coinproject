{
 "cells": [
  {
   "cell_type": "markdown",
   "source": [
    "# UPBIT API 테스트\r\n",
    "- 참조 링크: https://wikidocs.net/31063"
   ],
   "metadata": {}
  },
  {
   "cell_type": "code",
   "execution_count": 9,
   "source": [
    "import pyupbit\r\n",
    "import pandas as pd\r\n",
    "import numpy as np "
   ],
   "outputs": [],
   "metadata": {}
  },
  {
   "cell_type": "markdown",
   "source": [
    "### 현재 시세 확인\r\n",
    "- 사용 매써드 : get_current_price()\r\n",
    "- 파라미터: 시장-코인명"
   ],
   "metadata": {}
  },
  {
   "cell_type": "code",
   "execution_count": 6,
   "source": [
    "price = pyupbit.get_current_price(\"KRW-BTC\")\r\n",
    "print('업비트, KRW 비트코인 현재가격', price,'원')"
   ],
   "outputs": [
    {
     "output_type": "stream",
     "name": "stdout",
     "text": [
      "업비트, KRW 비트코인 현재가격 38376000.0 원\n"
     ]
    }
   ],
   "metadata": {}
  },
  {
   "cell_type": "code",
   "execution_count": null,
   "source": [],
   "outputs": [],
   "metadata": {}
  },
  {
   "cell_type": "markdown",
   "source": [
    "### 시가(open), 고가(high), 저가(low), 종가(close), 거래량(volume) 조회\r\n",
    "- 사용매써드 : get_ohlcv\r\n",
    "- 매써드 파라미터: 확인할 거래시장과 코인 이름, 월/주/일/분봉, 가져올 일수(오늘 기준 과거 몇일) count = 일수\r\n"
   ],
   "metadata": {}
  },
  {
   "cell_type": "code",
   "execution_count": 14,
   "source": [
    "ohlcv_day = pyupbit.get_ohlcv('KRW-BTC') ## KRW 비트코인 ohlcv 데이터프레임 형태로 수신"
   ],
   "outputs": [],
   "metadata": {}
  },
  {
   "cell_type": "code",
   "execution_count": 15,
   "source": [
    "ohlcv_day.reset_index().loc[df.reset_index()['index'] == '2021-07-14 09:00:00',:]"
   ],
   "outputs": [
    {
     "output_type": "execute_result",
     "data": {
      "text/plain": [
       "                  index        open        high         low       close  \\\n",
       "199 2021-07-14 09:00:00  38741000.0  38901000.0  37600000.0  38328000.0   \n",
       "\n",
       "          volume         value  \n",
       "199  4954.981372  1.893939e+11  "
      ],
      "text/html": [
       "<div>\n",
       "<style scoped>\n",
       "    .dataframe tbody tr th:only-of-type {\n",
       "        vertical-align: middle;\n",
       "    }\n",
       "\n",
       "    .dataframe tbody tr th {\n",
       "        vertical-align: top;\n",
       "    }\n",
       "\n",
       "    .dataframe thead th {\n",
       "        text-align: right;\n",
       "    }\n",
       "</style>\n",
       "<table border=\"1\" class=\"dataframe\">\n",
       "  <thead>\n",
       "    <tr style=\"text-align: right;\">\n",
       "      <th></th>\n",
       "      <th>index</th>\n",
       "      <th>open</th>\n",
       "      <th>high</th>\n",
       "      <th>low</th>\n",
       "      <th>close</th>\n",
       "      <th>volume</th>\n",
       "      <th>value</th>\n",
       "    </tr>\n",
       "  </thead>\n",
       "  <tbody>\n",
       "    <tr>\n",
       "      <td>199</td>\n",
       "      <td>2021-07-14 09:00:00</td>\n",
       "      <td>38741000.0</td>\n",
       "      <td>38901000.0</td>\n",
       "      <td>37600000.0</td>\n",
       "      <td>38328000.0</td>\n",
       "      <td>4954.981372</td>\n",
       "      <td>1.893939e+11</td>\n",
       "    </tr>\n",
       "  </tbody>\n",
       "</table>\n",
       "</div>"
      ]
     },
     "metadata": {},
     "execution_count": 15
    }
   ],
   "metadata": {}
  },
  {
   "cell_type": "code",
   "execution_count": 16,
   "source": [
    "ohlcv_one_min =  pyupbit.get_ohlcv('KRW-BTC', interval=\"minute1\") ##분봉으로 확인"
   ],
   "outputs": [],
   "metadata": {}
  },
  {
   "cell_type": "code",
   "execution_count": 17,
   "source": [
    "ohlcv_one_min"
   ],
   "outputs": [
    {
     "output_type": "execute_result",
     "data": {
      "text/plain": [
       "                           open        high         low       close    volume  \\\n",
       "2021-07-14 18:42:00  38403000.0  38427000.0  38383000.0  38400000.0  5.307952   \n",
       "2021-07-14 18:43:00  38409000.0  38415000.0  38400000.0  38404000.0  3.489669   \n",
       "2021-07-14 18:44:00  38404000.0  38413000.0  38401000.0  38413000.0  5.612589   \n",
       "2021-07-14 18:45:00  38413000.0  38414000.0  38385000.0  38385000.0  4.679092   \n",
       "2021-07-14 18:46:00  38385000.0  38385000.0  38331000.0  38332000.0  5.206811   \n",
       "...                         ...         ...         ...         ...       ...   \n",
       "2021-07-14 21:57:00  38390000.0  38390000.0  38350000.0  38350000.0  7.240911   \n",
       "2021-07-14 21:58:00  38350000.0  38351000.0  38310000.0  38315000.0  3.187211   \n",
       "2021-07-14 21:59:00  38308000.0  38351000.0  38305000.0  38323000.0  4.673858   \n",
       "2021-07-14 22:00:00  38325000.0  38350000.0  38324000.0  38350000.0  1.194082   \n",
       "2021-07-14 22:01:00  38333000.0  38349000.0  38333000.0  38349000.0  0.052668   \n",
       "\n",
       "                            value  \n",
       "2021-07-14 18:42:00  2.038338e+08  \n",
       "2021-07-14 18:43:00  1.340250e+08  \n",
       "2021-07-14 18:44:00  2.155611e+08  \n",
       "2021-07-14 18:45:00  1.796955e+08  \n",
       "2021-07-14 18:46:00  1.997452e+08  \n",
       "...                           ...  \n",
       "2021-07-14 21:57:00  2.777465e+08  \n",
       "2021-07-14 21:58:00  1.221809e+08  \n",
       "2021-07-14 21:59:00  1.791023e+08  \n",
       "2021-07-14 22:00:00  4.577969e+07  \n",
       "2021-07-14 22:01:00  2.019714e+06  \n",
       "\n",
       "[200 rows x 6 columns]"
      ],
      "text/html": [
       "<div>\n",
       "<style scoped>\n",
       "    .dataframe tbody tr th:only-of-type {\n",
       "        vertical-align: middle;\n",
       "    }\n",
       "\n",
       "    .dataframe tbody tr th {\n",
       "        vertical-align: top;\n",
       "    }\n",
       "\n",
       "    .dataframe thead th {\n",
       "        text-align: right;\n",
       "    }\n",
       "</style>\n",
       "<table border=\"1\" class=\"dataframe\">\n",
       "  <thead>\n",
       "    <tr style=\"text-align: right;\">\n",
       "      <th></th>\n",
       "      <th>open</th>\n",
       "      <th>high</th>\n",
       "      <th>low</th>\n",
       "      <th>close</th>\n",
       "      <th>volume</th>\n",
       "      <th>value</th>\n",
       "    </tr>\n",
       "  </thead>\n",
       "  <tbody>\n",
       "    <tr>\n",
       "      <td>2021-07-14 18:42:00</td>\n",
       "      <td>38403000.0</td>\n",
       "      <td>38427000.0</td>\n",
       "      <td>38383000.0</td>\n",
       "      <td>38400000.0</td>\n",
       "      <td>5.307952</td>\n",
       "      <td>2.038338e+08</td>\n",
       "    </tr>\n",
       "    <tr>\n",
       "      <td>2021-07-14 18:43:00</td>\n",
       "      <td>38409000.0</td>\n",
       "      <td>38415000.0</td>\n",
       "      <td>38400000.0</td>\n",
       "      <td>38404000.0</td>\n",
       "      <td>3.489669</td>\n",
       "      <td>1.340250e+08</td>\n",
       "    </tr>\n",
       "    <tr>\n",
       "      <td>2021-07-14 18:44:00</td>\n",
       "      <td>38404000.0</td>\n",
       "      <td>38413000.0</td>\n",
       "      <td>38401000.0</td>\n",
       "      <td>38413000.0</td>\n",
       "      <td>5.612589</td>\n",
       "      <td>2.155611e+08</td>\n",
       "    </tr>\n",
       "    <tr>\n",
       "      <td>2021-07-14 18:45:00</td>\n",
       "      <td>38413000.0</td>\n",
       "      <td>38414000.0</td>\n",
       "      <td>38385000.0</td>\n",
       "      <td>38385000.0</td>\n",
       "      <td>4.679092</td>\n",
       "      <td>1.796955e+08</td>\n",
       "    </tr>\n",
       "    <tr>\n",
       "      <td>2021-07-14 18:46:00</td>\n",
       "      <td>38385000.0</td>\n",
       "      <td>38385000.0</td>\n",
       "      <td>38331000.0</td>\n",
       "      <td>38332000.0</td>\n",
       "      <td>5.206811</td>\n",
       "      <td>1.997452e+08</td>\n",
       "    </tr>\n",
       "    <tr>\n",
       "      <td>...</td>\n",
       "      <td>...</td>\n",
       "      <td>...</td>\n",
       "      <td>...</td>\n",
       "      <td>...</td>\n",
       "      <td>...</td>\n",
       "      <td>...</td>\n",
       "    </tr>\n",
       "    <tr>\n",
       "      <td>2021-07-14 21:57:00</td>\n",
       "      <td>38390000.0</td>\n",
       "      <td>38390000.0</td>\n",
       "      <td>38350000.0</td>\n",
       "      <td>38350000.0</td>\n",
       "      <td>7.240911</td>\n",
       "      <td>2.777465e+08</td>\n",
       "    </tr>\n",
       "    <tr>\n",
       "      <td>2021-07-14 21:58:00</td>\n",
       "      <td>38350000.0</td>\n",
       "      <td>38351000.0</td>\n",
       "      <td>38310000.0</td>\n",
       "      <td>38315000.0</td>\n",
       "      <td>3.187211</td>\n",
       "      <td>1.221809e+08</td>\n",
       "    </tr>\n",
       "    <tr>\n",
       "      <td>2021-07-14 21:59:00</td>\n",
       "      <td>38308000.0</td>\n",
       "      <td>38351000.0</td>\n",
       "      <td>38305000.0</td>\n",
       "      <td>38323000.0</td>\n",
       "      <td>4.673858</td>\n",
       "      <td>1.791023e+08</td>\n",
       "    </tr>\n",
       "    <tr>\n",
       "      <td>2021-07-14 22:00:00</td>\n",
       "      <td>38325000.0</td>\n",
       "      <td>38350000.0</td>\n",
       "      <td>38324000.0</td>\n",
       "      <td>38350000.0</td>\n",
       "      <td>1.194082</td>\n",
       "      <td>4.577969e+07</td>\n",
       "    </tr>\n",
       "    <tr>\n",
       "      <td>2021-07-14 22:01:00</td>\n",
       "      <td>38333000.0</td>\n",
       "      <td>38349000.0</td>\n",
       "      <td>38333000.0</td>\n",
       "      <td>38349000.0</td>\n",
       "      <td>0.052668</td>\n",
       "      <td>2.019714e+06</td>\n",
       "    </tr>\n",
       "  </tbody>\n",
       "</table>\n",
       "<p>200 rows × 6 columns</p>\n",
       "</div>"
      ]
     },
     "metadata": {},
     "execution_count": 17
    }
   ],
   "metadata": {}
  }
 ],
 "metadata": {
  "orig_nbformat": 4,
  "language_info": {
   "name": "python"
  }
 },
 "nbformat": 4,
 "nbformat_minor": 2
}